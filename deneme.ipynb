{
 "cells": [
  {
   "cell_type": "markdown",
   "id": "27a78282",
   "metadata": {},
   "source": [
    "# BM25"
   ]
  },
  {
   "cell_type": "code",
   "execution_count": 1,
   "id": "33883fa1",
   "metadata": {},
   "outputs": [],
   "source": [
    "import pickle\n",
    "with open(\"Model/bm25.pkl\", \"rb\") as f:\n",
    "    bm25 = pickle.load(f)"
   ]
  },
  {
   "cell_type": "code",
   "execution_count": 2,
   "id": "bbc97ae7",
   "metadata": {},
   "outputs": [
    {
     "name": "stdout",
     "output_type": "stream",
     "text": [
      "Palette Kalıcı Doğal Renkler 10-4 PAPATYA\n"
     ]
    }
   ],
   "source": [
    "query_id = 0\n",
    "query = \"Palette Kalıcı Doğal Renkler 10-4 PAPATYA\"\n",
    "print(query)\n",
    "tokenized_query = query.split()\n",
    "doc_scores = bm25.get_scores(tokenized_query)"
   ]
  },
  {
   "cell_type": "code",
   "execution_count": 3,
   "id": "d14b70cf",
   "metadata": {},
   "outputs": [],
   "source": [
    "import pandas as pd\n",
    "meta_df = pd.read_pickle(\"Data/meta_df.pkl\")"
   ]
  },
  {
   "cell_type": "code",
   "execution_count": 4,
   "id": "96b156e4",
   "metadata": {},
   "outputs": [
    {
     "name": "stdout",
     "output_type": "stream",
     "text": [
      "Palette Kalıcı Doğal Renkler 1-0 SİYAH 22.319308303917282 HBV00000AX6LV\n",
      "Palette Kalıcı Doğal Renkler 4-0 KAHVE 22.319308303917282 HBV00000AX6LH\n",
      "Palette Kalıcı Doğal Renkler 1-1 GECE MAVİSİ 20.815797271222806 HBV00000AX6LF\n",
      "Palette Kalıcı Doğal Renkler 5-89 GECE KIZILI 20.815797271222806 HBV00000AX6LD\n",
      "Palette Kalıcı Doğal Renkler 9-4 SAHRA SARISI 20.815797271222806 HBV00000AX6LT\n",
      "Palette Kalıcı Doğal Renkler 6-70 BRONZ KAHVE 20.815797271222806 HBV00000AX6L9\n",
      "Palette Kalıcı Doğal Renkler 6-0 KOYU KUMRAL 20.815797271222806 HBV00000AX6LL\n",
      "Palette Kalıcı Doğal Renkler 10-0 AÇIK SARI 20.815797271222806 HBV00000AX6L5\n",
      "Palette Kalıcı Doğal Renkler 4-60 AÇIK ÇİKOLATA KAHVE 19.502066078898437 HBV00000AX6KZ\n",
      "Palette Saç Boyası Kalıcı Doğal Renkler 4-0 Amber Kahve 18.34431558435793 HBV00000PVB3G\n"
     ]
    }
   ],
   "source": [
    "n=11\n",
    "idx = (-doc_scores).argsort()[:n]\n",
    "\n",
    "for i in idx:\n",
    "    if i != query_id:\n",
    "        print(meta_df.loc[i , \"name\"],\n",
    "              meta_df.loc[i, \"productid\"]\n",
    "              doc_scores[i],)"
   ]
  },
  {
   "cell_type": "markdown",
   "id": "decce896",
   "metadata": {},
   "source": [
    "# Word2vec"
   ]
  },
  {
   "cell_type": "code",
   "execution_count": 5,
   "id": "332c51ec",
   "metadata": {},
   "outputs": [],
   "source": [
    "from gensim.models import KeyedVectors\n",
    "\n",
    "# Load back with memory-mapping = read-only, shared across processes.\n",
    "wv = KeyedVectors.load(\"Model/product.vectors\", mmap='r')"
   ]
  },
  {
   "cell_type": "code",
   "execution_count": 6,
   "id": "96517791",
   "metadata": {},
   "outputs": [
    {
     "data": {
      "text/plain": [
       "[('SGKLSTNNTRLS20', 0.6877318620681763),\n",
       " ('ZYHEN1944813', 0.6464939713478088),\n",
       " ('HBV00000PVR4I', 0.64261794090271),\n",
       " ('SGTRN8699522004454', 0.6253767013549805),\n",
       " ('HBV00000PVQ51', 0.6191856861114502),\n",
       " ('SGGIL291014', 0.6099227666854858),\n",
       " ('SGPAN965013', 0.6090630888938904),\n",
       " ('HBV00000H3RLC', 0.607051432132721),\n",
       " ('HBV00000PV5S4', 0.6055969595909119),\n",
       " ('SGARP267671', 0.604408860206604)]"
      ]
     },
     "execution_count": 6,
     "metadata": {},
     "output_type": "execute_result"
    }
   ],
   "source": [
    "wv.most_similar(positive=[\"HBV00000AX6LV\"])"
   ]
  },
  {
   "cell_type": "code",
   "execution_count": 34,
   "id": "6df0ea72",
   "metadata": {},
   "outputs": [],
   "source": [
    "results = wv.most_similar(positive=[\"HBV00000AX6LV\"])"
   ]
  },
  {
   "cell_type": "code",
   "execution_count": 37,
   "id": "f91d9d02",
   "metadata": {},
   "outputs": [
    {
     "data": {
      "text/plain": [
       "[{'productid': 'SGKLSTNNTRLS20', 'score': 'SGKLSTNNTRLS20'},\n",
       " {'productid': 'ZYHEN1944813', 'score': 'ZYHEN1944813'},\n",
       " {'productid': 'HBV00000PVR4I', 'score': 'HBV00000PVR4I'},\n",
       " {'productid': 'SGTRN8699522004454', 'score': 'SGTRN8699522004454'},\n",
       " {'productid': 'HBV00000PVQ51', 'score': 'HBV00000PVQ51'},\n",
       " {'productid': 'SGGIL291014', 'score': 'SGGIL291014'},\n",
       " {'productid': 'SGPAN965013', 'score': 'SGPAN965013'},\n",
       " {'productid': 'HBV00000H3RLC', 'score': 'HBV00000H3RLC'},\n",
       " {'productid': 'HBV00000PV5S4', 'score': 'HBV00000PV5S4'},\n",
       " {'productid': 'SGARP267671', 'score': 'SGARP267671'}]"
      ]
     },
     "execution_count": 37,
     "metadata": {},
     "output_type": "execute_result"
    }
   ],
   "source": [
    "[{\"productid\":result[0], \"score\":result[0]} for result in results]"
   ]
  },
  {
   "cell_type": "markdown",
   "id": "5bc7fc7b",
   "metadata": {},
   "source": [
    "# Simple Predict"
   ]
  },
  {
   "cell_type": "code",
   "execution_count": 7,
   "id": "a1255e07",
   "metadata": {},
   "outputs": [],
   "source": [
    "event_df = pd.read_pickle(\"data/event_df.pkl\")\n",
    "meta_df = meta_df.set_index(\"productid\")"
   ]
  },
  {
   "cell_type": "code",
   "execution_count": 30,
   "id": "1ccad88f",
   "metadata": {},
   "outputs": [
    {
     "data": {
      "text/plain": [
       "[{'event': 'cart',\n",
       "  'sessionid': '0002e53b-1f60-4309-8380-31ca03de51f8',\n",
       "  'eventtime': Timestamp('2020-06-06 17:51:18.003000'),\n",
       "  'price': 22.48,\n",
       "  'productid': 'HBV00000NVZGQ',\n",
       "  'session_length': 2},\n",
       " {'event': 'cart',\n",
       "  'sessionid': '0002e53b-1f60-4309-8380-31ca03de51f8',\n",
       "  'eventtime': Timestamp('2020-06-06 17:52:42.480000'),\n",
       "  'price': 5.5,\n",
       "  'productid': 'HBV00000NE1LU',\n",
       "  'session_length': 2}]"
      ]
     },
     "execution_count": 30,
     "metadata": {},
     "output_type": "execute_result"
    }
   ],
   "source": [
    "event_df[event_df[\"sessionid\"] == \"0002e53b-1f60-4309-8380-31ca03de51f8\"].to_dict(orient=\"records\")"
   ]
  },
  {
   "cell_type": "code",
   "execution_count": 23,
   "id": "1a6dbe2e",
   "metadata": {},
   "outputs": [],
   "source": [
    "predict_df = event_df[event_df[\"sessionid\"] == \"0002e53b-1f60-4309-8380-31ca03de51f8\"]\n",
    "items = predict_df[\"productid\"].tolist()"
   ]
  },
  {
   "cell_type": "code",
   "execution_count": 25,
   "id": "194b25d5",
   "metadata": {},
   "outputs": [
    {
     "data": {
      "text/plain": [
       "['HBV00000NVZGQ', 'HBV00000NE1LU']"
      ]
     },
     "execution_count": 25,
     "metadata": {},
     "output_type": "execute_result"
    }
   ],
   "source": [
    "items"
   ]
  },
  {
   "cell_type": "code",
   "execution_count": 26,
   "id": "36833295",
   "metadata": {},
   "outputs": [
    {
     "data": {
      "text/plain": [
       "brand                                        Aytaç\n",
       "category                      Et, Balık, Şarküteri\n",
       "subcategory                              Şarküteri\n",
       "name                Aytaç Şipşak Macar Salam 60 gr\n",
       "size_identifiers                             60 gr\n",
       "identifier_value                                gr\n",
       "clean_name                aytac sipsak macar salam\n",
       "Name: HBV00000NE1LU, dtype: object"
      ]
     },
     "execution_count": 26,
     "metadata": {},
     "output_type": "execute_result"
    }
   ],
   "source": [
    "meta_df.loc[items[-1]]"
   ]
  },
  {
   "cell_type": "code",
   "execution_count": 27,
   "id": "ef0d5d29",
   "metadata": {},
   "outputs": [
    {
     "data": {
      "text/plain": [
       "[('HBV00000PGMYN', 0.8103736639022827),\n",
       " ('HBV00000P7OKS', 0.7591451406478882),\n",
       " ('HBV00000NE20X', 0.7501922845840454),\n",
       " ('HBV00000U27L5', 0.7370765209197998),\n",
       " ('HBV00000NE1CE', 0.7064669132232666),\n",
       " ('HBV00000PGMYP', 0.7050485610961914),\n",
       " ('HBV00000OE7JB', 0.6963288187980652),\n",
       " ('HBV00000PV9O9', 0.6889700889587402),\n",
       " ('HBV00000SP6TS', 0.6854895353317261),\n",
       " ('HBV00000U2B2S', 0.6748484373092651)]"
      ]
     },
     "execution_count": 27,
     "metadata": {},
     "output_type": "execute_result"
    }
   ],
   "source": [
    "wv.most_similar(positive=[items[-1]])"
   ]
  },
  {
   "cell_type": "code",
   "execution_count": 33,
   "id": "3043cd92",
   "metadata": {},
   "outputs": [
    {
     "name": "stdout",
     "output_type": "stream",
     "text": [
      "false\n"
     ]
    }
   ],
   "source": [
    "if \"asdasd\" in wv:\n",
    "    print(\"true\")\n",
    "else:\n",
    "    print(\"false\")"
   ]
  },
  {
   "cell_type": "code",
   "execution_count": null,
   "id": "dc484fae",
   "metadata": {},
   "outputs": [],
   "source": []
  }
 ],
 "metadata": {
  "kernelspec": {
   "display_name": "Python 3",
   "language": "python",
   "name": "python3"
  },
  "language_info": {
   "codemirror_mode": {
    "name": "ipython",
    "version": 3
   },
   "file_extension": ".py",
   "mimetype": "text/x-python",
   "name": "python",
   "nbconvert_exporter": "python",
   "pygments_lexer": "ipython3",
   "version": "3.8.3"
  },
  "toc": {
   "base_numbering": 1,
   "nav_menu": {},
   "number_sections": true,
   "sideBar": true,
   "skip_h1_title": false,
   "title_cell": "Table of Contents",
   "title_sidebar": "Contents",
   "toc_cell": false,
   "toc_position": {},
   "toc_section_display": true,
   "toc_window_display": true
  }
 },
 "nbformat": 4,
 "nbformat_minor": 5
}
